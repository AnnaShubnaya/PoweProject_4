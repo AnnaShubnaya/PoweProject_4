{
 "cells": [
  {
   "cell_type": "code",
   "execution_count": 1,
   "id": "e91c2624",
   "metadata": {},
   "outputs": [],
   "source": [
    "begin\n",
    "    using Pkg\n",
    "    Pkgs = [\"CSV\", \"DataFrames\", \"Ipopt\", \"JuMP\", \"Plots\", \"DelimitedFiles\", \"LaTeXStrings\", \"SparseArrays\"]\n",
    "    for p in Pkgs\n",
    "        if Base.find_package(p) == nothing\n",
    "            Pkg.add(p)\n",
    "        end\n",
    "    end\n",
    "end\n",
    "    using CSV, DataFrames, Ipopt, JuMP, Plots, DelimitedFiles, LaTeXStrings, SparseArrays"
   ]
  },
  {
   "cell_type": "code",
   "execution_count": 2,
   "id": "9589d8a5",
   "metadata": {},
   "outputs": [
    {
     "data": {
      "text/plain": [
       "10.0"
      ]
     },
     "execution_count": 2,
     "metadata": {},
     "output_type": "execute_result"
    }
   ],
   "source": [
    "S_base = readdlm(\"data/BaseMVA.txt\")[1,1]"
   ]
  },
  {
   "cell_type": "code",
   "execution_count": null,
   "id": "21de6395",
   "metadata": {},
   "outputs": [],
   "source": [
    "BusData = CSV.read(\"data/bus.csv\", DataFrame)\n",
    "GenData = CSV.read(\"data/gen.csv\", DataFrame)\n",
    "GenCostData = CSV.read(\"data/gencost.csv\", DataFrame)\n",
    "BranchData = CSV.read(\"data/branch.csv\", DataFrame)\n",
    "#DemandData = CSV.read(\"data/demand.csv\", DataFrame)"
   ]
  },
  {
   "cell_type": "code",
   "execution_count": null,
   "id": "68108b3a",
   "metadata": {},
   "outputs": [],
   "source": [
    "Gens = 1:size(GenData)[1]\n",
    "Buses = 1:size(BusData)[1]\n",
    "T = 1:720#17280"
   ]
  },
  {
   "cell_type": "code",
   "execution_count": null,
   "id": "3ab215ce",
   "metadata": {},
   "outputs": [],
   "source": [
    "# Generate demand data\n",
    "Demand = []\n",
    "for t in T\n",
    "    append!(Demand, 10*sin(0.26 * (t + 10)) + 25)\n",
    "end\n",
    "#@show Demand[1]\n",
    "#plot(Demand)\n",
    "DemandData = DataFrame(b1 = Float64[], b2 = Float64[])\n",
    "\n",
    "for i in T\n",
    "    push!(DemandData, (0.0, Demand[i]))\n",
    "end \n",
    "\n",
    "DemandData = DataFrame([[names(DemandData)]; collect.(eachrow(DemandData))], [:column; Symbol.(axes(DemandData, 1))])\n",
    "DemandData = select!(DemandData, Not(:column))\n",
    "plot(Demand, label=\"Demand\")#, xlim = [1, 24], ylim = [0, 40])"
   ]
  },
  {
   "cell_type": "code",
   "execution_count": null,
   "id": "f92ee99c",
   "metadata": {},
   "outputs": [],
   "source": [
    "GenCostData"
   ]
  },
  {
   "cell_type": "code",
   "execution_count": null,
   "id": "b6bbbc26",
   "metadata": {},
   "outputs": [],
   "source": [
    "BusData"
   ]
  },
  {
   "cell_type": "code",
   "execution_count": null,
   "id": "544a69cc",
   "metadata": {},
   "outputs": [],
   "source": [
    "NBuses = size(BusData)[1]\n",
    "NLines = size(BranchData)[1]\n",
    "Y = zeros(Complex, NBuses, NBuses)\n",
    "b = zeros(NBuses, NBuses)\n",
    "X = zeros(NBuses, NBuses)\n",
    "BranchData[!,\"fbus\"] = convert.(Int64, BranchData[!,\"fbus\"])\n",
    "BranchData[!,\"tbus\"] = convert.(Int64, BranchData[!,\"tbus\"])\n",
    "\n",
    "for row in eachrow(BranchData)\n",
    "    # Non-diagonal elements of Y\n",
    "    Y[row[\"fbus\"], row[\"tbus\"]] = Y[row[\"fbus\"], row[\"tbus\"]] - (1 / (row[\"r\"] + im*row[\"x\"])) \n",
    "    Y[row[\"tbus\"], row[\"fbus\"]] = Y[row[\"tbus\"], row[\"fbus\"]] - (1 / (row[\"r\"] + im*row[\"x\"]))\n",
    "    \n",
    "    # Diagonal elements of Y\n",
    "    Y[row[\"fbus\"], row[\"fbus\"]] = Y[row[\"fbus\"], row[\"fbus\"]] + (1 / (row[\"r\"] + im*row[\"x\"])) \n",
    "    Y[row[\"tbus\"], row[\"tbus\"]] = Y[row[\"tbus\"], row[\"tbus\"]] + (1 / (row[\"r\"] + im*row[\"x\"]))\n",
    "    \n",
    "    # Shunt susceptance\n",
    "    b[row[\"fbus\"], row[\"tbus\"]] = row[\"b\"]\n",
    "    b[row[\"tbus\"], row[\"fbus\"]] = row[\"b\"]\n",
    "    \n",
    "    # Reactence matrix\n",
    "    X[row[\"fbus\"], row[\"tbus\"]] = row[\"x\"]\n",
    "    X[row[\"tbus\"], row[\"fbus\"]] = row[\"x\"]\n",
    "end\n",
    "\n",
    "G = real(Y)\n",
    "B = imag(Y)\n",
    "\n",
    "Lines = [(row[\"fbus\"], row[\"tbus\"]) for row in eachrow(BranchData)]"
   ]
  },
  {
   "cell_type": "code",
   "execution_count": null,
   "id": "04e37829",
   "metadata": {},
   "outputs": [],
   "source": [
    "Y"
   ]
  },
  {
   "cell_type": "code",
   "execution_count": null,
   "id": "bf5b509d",
   "metadata": {},
   "outputs": [],
   "source": [
    "# Lines' apparent power limits\n",
    "\n",
    "S = zeros(NBuses,NBuses)\n",
    "for i in 1:NLines\n",
    "    S[BranchData[i,:fbus],BranchData[i,:tbus]] = BranchData[i,:rateA] # Choose rateA column because it is for the long-term case\n",
    "    S[BranchData[i,:tbus],BranchData[i,:fbus]] = BranchData[i,:rateA]\n",
    "end"
   ]
  },
  {
   "cell_type": "code",
   "execution_count": null,
   "id": "b45895e6",
   "metadata": {},
   "outputs": [],
   "source": [
    "#DC OPF\n",
    "function DCPF(G, B, b, S, BusData, DemandData, GenData, Gens, Buses, T)\n",
    "    \"\"\"\n",
    "    This function creates a JuMP model for Optimal Power Flow (OPF) problem with provided parameters of power grid\n",
    "    \n",
    "    Arguments:\n",
    "        G (Matrix{Real})        : conductance matrix of grid -- real part of admittance matrix\n",
    "        B (Matrix{Real})        : susceptance matrix of grid -- imaginary part of admittance matrix\n",
    "        b (Matrix{Float64})     : shunt matrix for lines\n",
    "        S (Matrix{Float64})     : line flow limits matrix\n",
    "        BusData (DataFrame)     : contains information on buses: power demands and voltage magnitude limits\n",
    "        GenData (DataFrame)     : contains information on generators: generation limits and \n",
    "                                  quadratic cost function's coefficients\n",
    "        Gens (UnitRange{Int64}) : indices of generators\n",
    "        Buses (UnitRange{Int64}): indices of buses\n",
    "    Returns:\n",
    "        \n",
    "    \"\"\"\n",
    "    \n",
    "    m = Model(Ipopt.Optimizer)\n",
    "    #set_optimizer_attribute(m, \"max_cpu_time\", 240.0)\n",
    "    set_optimizer_attribute(m, \"max_iter\", 500)\n",
    "    set_optimizer_attribute(m, \"acceptable_tol\", 1.0)\n",
    "    \n",
    "    #set_optimizer_attribute(m, \"max_wall_time\", 30.0) - should limit the real time but doesn't work\n",
    "    \n",
    "    # Battery parameters\n",
    "    Emax0 = 100.0      # Initial capacitance\n",
    "    Emin = 10.0        # Minimum capacity\n",
    "    η_ch = 0.8         # Charging efficiency\n",
    "    η_disch = 0.85     # Discharging efficiency\n",
    "    \n",
    "    # Idling degradation\n",
    "    # Numbers from the article are multiplied by 10 to increase the speed of degradation\n",
    "    A_idl = 0.00000602 * 10\n",
    "    B_idl = 0.0000135  * 10\n",
    "    C_idl = 0.0000185  * 10\n",
    "    \n",
    "    # Cycling degradation\n",
    "    A_cyc = -0.0000472 * 10\n",
    "    B_cyc =  0.0000962 * 10\n",
    "    \n",
    "    # Variables\n",
    "    \n",
    "    ## Voltages\n",
    "    @variable(m, BusData[i, :Vmin] ≤ v[i in Buses, t in T] ≤ BusData[i, :Vmax], start = 1.0)\n",
    "    @variable(m, δ[i in Buses, t in T], start = 0.0)\n",
    "    \n",
    "    ## Power generations\n",
    "    @variable(m, GenData[i, :Pmin] ≤ p[i in Gens, t in T] ≤ GenData[i, :Pmax])\n",
    "    @variable(m, GenData[i, :Qmin] ≤ q[i in Gens, t in T] ≤ GenData[i, :Qmax])\n",
    "        \n",
    "    ## Battery\n",
    "    @variable(m, Emax[t in T], start = Emax0)\n",
    "    @variable(m, E[t in T], start = Emin)\n",
    "    @variable(m, 0.0 ≤ Pch[i in Buses, t in T] ≤ 25.0)\n",
    "    @variable(m, 0.0 ≤ Pdisch[i in Buses, t in T] ≤ 40.0)\n",
    "    @variable(m, γ_idl[t in T])\n",
    "    @variable(m, γ_cyc[t in T])\n",
    "    @variable(m, SoC[t in T])\n",
    "    @variable(m, DoD[t in T])\n",
    "    @variable(m, y[t in T])     # Ratio of the cycle, y = (Pch + Pdis)/Emax0\n",
    "    \n",
    "    ### No simultaneous charge and discharge\n",
    "    @NLconstraint(m, Psim[i in Buses, t in T], abs(Pch[i, t] * Pdisch[i, t]) ≤ 0.00001)# == 0.0)\n",
    "    \n",
    "    ### SoC and DoD definitions\n",
    "    @constraint(m, SoC_definition[t in T], SoC[t] == E[t] / Emax0)\n",
    "    @constraint(m, DoD_definition[t in T], DoD[t] == 1 - SoC[t])\n",
    "    @constraint(m, y_definition[t in T], y[t] == (Pch[2, t] + Pdisch[2, t]) / Emax0)\n",
    "    \n",
    "    ### Initialization of parameters in initial condition\n",
    "    @constraint(m, Et_init, E[1] == Emin)\n",
    "    @constraint(m, Emax_init, Emax[1] == Emax0)\n",
    "    @constraint(m, Pch2_init, Pch[2, 1] == 0.0)\n",
    "    @constraint(m, Pdisch2_init, Pdisch[2, 1] == 0.0)\n",
    "    \n",
    "    ### No battery at bus #1\n",
    "    @constraint(m, Pch1[t in T], Pch[1, t] == 0.0)      \n",
    "    @constraint(m, Pdisch1[t in T], Pdisch[1, t] == 0.0) \n",
    "    \n",
    "    ### Capacitance limit\n",
    "    @constraint(m, MaxCapacity[t in T], E[t] ≤ Emax[t])\n",
    "    @constraint(m, MinCapacity[t in T], Emin ≤ E[t])\n",
    "    \n",
    "    ### Degradation model\n",
    "    @constraint(m, IdlingDegradation[t in T],  γ_idl[t] == A_idl * (SoC[t])^2 + B_idl * (SoC[t]) + C_idl)\n",
    "    @constraint(m, CyclingDegradation[t in T], γ_cyc[t] == A_cyc * (DoD[t])^2 + B_cyc * (DoD[t]))\n",
    "    @NLconstraint(m, Degradation[t in 2:size(T)[1]],                      \n",
    "                Emax[t] == Emax[t - 1] * (1 - γ_idl[t - 1] - y[t] * γ_cyc[t - 1]) ) \n",
    "                # ((Pch[2, t - 1] + Pdisch[2, t - 1])/Emax0) *\n",
    "\n",
    "    \n",
    "    @constraint(m, Et[t in 2:size(T)[1]], E[t] == E[t - 1] - (Pdisch[2, t - 1] / η_disch) +  (η_ch * Pch[2, t - 1]))\n",
    "    \n",
    "    @constraint(m, Pdisch21[t in T], E[t] - Pdisch[2, t] / η_disch ≥ Emin )\n",
    "    @constraint(m, Pch21[t in T], E[t] + η_ch * Pch[2, t] ≤ Emax[t] )\n",
    "    \n",
    "    ## Power flows\n",
    "    @variable(m, pij[i in Buses, j in Buses, t in T; (i != j) && (abs(Y[i, j]) > 0.)])\n",
    "    @variable(m, qij[i in Buses, j in Buses, t in T; (i != j) && (abs(Y[i, j]) > 0.)])\n",
    "    \n",
    "    #Constraints\n",
    "    \n",
    "    ##Slack bus\n",
    "    @constraint(m, δ_slack[t in T], δ[1, t] == 0.0)\n",
    "    \n",
    "    ## Power flow through lines\n",
    "    @NLconstraint(m, p_line[i in Buses, j in Buses, t in T; (i != j) && (abs(Y[i, j]) > 0.)],\n",
    "                     pij[i, j, t] == (δ[i, t] - δ[j, t]) / X[i, j] #S_base * \n",
    "    )\n",
    "    @NLconstraint(m, q_line[i in Buses, j in Buses, t in T; (i != j) && (abs(Y[i, j]) > 0.)],\n",
    "                     qij[i, j, t] == (v[i, t] - v[j, t])/ X[i, j] #S_base * \n",
    "    )\n",
    "    ## Nodal balance\n",
    "    @NLconstraint(m, P_bus[i in Buses, t in T],\n",
    "                    sum(p[g, t] for g in Gens if (g == i)) - DemandData[i, t] - Pch[i, t] + Pdisch[i, t] - \n",
    "                    sum(pij[i, j, t] for j in Buses if ((i != j) && (abs(Y[i, j]) > 0.))) == 0\n",
    "                    \n",
    "    )\n",
    "\n",
    "    \n",
    "    @NLconstraint(m, Q_bus[i in Buses, t in T],\n",
    "                    sum(q[g, t] for g in Gens if g == i) - BusData[i, :Qd] - \n",
    "                    sum(qij[i, j, t] for j in Buses if ((i != j) && (abs(Y[i, j]) > 0.))) == 0\n",
    "    )\n",
    "    \n",
    "    ## Line limits\n",
    "    @NLconstraint(m, S_max[i in Buses, j in Buses, t in T; (i != j) && (abs(Y[i, j]) > 0.)],\n",
    "                    pij[i, j, t]^2 + qij[i, j, t]^2 ≤ 50^2 #S[i, j]^2\n",
    "        \n",
    "    )\n",
    "    \n",
    "    ## Phase angle difference\n",
    "    @constraint(m, δ_diff[i in Buses, j in Buses, t in T; (i != j) && (abs(Y[i, j]) > 0.)],\n",
    "                    -pi ≤ δ[i, t] - δ[j, t] ≤ pi\n",
    "    )\n",
    "    \n",
    "    # Objective\n",
    "    @objective(m, Min, sum(p[g, t]^2 * GenCostData[g, :c2] + \n",
    "                           p[g, t]^1 * GenCostData[g, :c1] + \n",
    "                                       GenCostData[g, :c0]\n",
    "                           for g in Gens for t in T))\n",
    "    \n",
    "    # Solve\n",
    "    JuMP.optimize!(m)\n",
    "    return m\n",
    "end"
   ]
  },
  {
   "cell_type": "code",
   "execution_count": null,
   "id": "6102cf9e",
   "metadata": {},
   "outputs": [],
   "source": [
    "@time mDCPF = DCPF(G, B, b, S, BusData, DemandData, GenData, Gens, Buses, T)"
   ]
  },
  {
   "cell_type": "code",
   "execution_count": null,
   "id": "618cd09c",
   "metadata": {},
   "outputs": [],
   "source": [
    "#@show mDCPF[:S_max]\n",
    "x = value.(mDCPF[Symbol(\"Emax\")])"
   ]
  },
  {
   "cell_type": "code",
   "execution_count": null,
   "id": "9f2046cb",
   "metadata": {},
   "outputs": [],
   "source": [
    "p = value.(mDCPF[Symbol(\"p\")])\n",
    "pij = value.(mDCPF[Symbol(\"pij\")])\n",
    "qij = value.(mDCPF[Symbol(\"qij\")])\n",
    "E = value.(mDCPF[Symbol(\"E\")])\n",
    "Emax = value.(mDCPF[Symbol(\"Emax\")])\n",
    "pdis = value.(mDCPF[Symbol(\"Pdisch\")])\n",
    "pch = value.(mDCPF[Symbol(\"Pch\")])\n",
    "\n",
    "S_max = []\n",
    "for i in eachindex(pij)\n",
    "   S_i = pij[i]^2 + qij[i]^2\n",
    "   append!(S_max, S_i)\n",
    "end\n",
    "\n",
    "results = DataFrame(P2 = Float64[], P1 = Float64[], E = Float64[], \n",
    "                    Pch = Float64[], Pdis = Float64[], Demand = Float64[], S_max = Float64[])\n",
    "\n",
    "for i in T\n",
    "    push!(results, round.(tuple(p[2, i], p[1, i], E[i], pch[2, i], pdis[2, i], DemandData[!,i][2], S_max[i]), digits=2))\n",
    "end"
   ]
  },
  {
   "cell_type": "code",
   "execution_count": null,
   "id": "1a50bd0e",
   "metadata": {},
   "outputs": [],
   "source": [
    "S_max"
   ]
  },
  {
   "cell_type": "code",
   "execution_count": null,
   "id": "24644143",
   "metadata": {},
   "outputs": [],
   "source": [
    "results"
   ]
  },
  {
   "cell_type": "code",
   "execution_count": null,
   "id": "f6f97ae4",
   "metadata": {},
   "outputs": [],
   "source": [
    "plot(E / 100, label=\"Battery charge (%)\", color=:red)\n",
    "plot!(Emax / 100, label=\"Max battery charge (%)\", color=:blue)"
   ]
  },
  {
   "cell_type": "code",
   "execution_count": null,
   "id": "5f6c13ea",
   "metadata": {},
   "outputs": [],
   "source": [
    "plot(results[!, :Pch], label=\"Charging power\", color=:blue)\n",
    "plot!(results[!, :Pdis], label=\"Discharging power\", color=:red)\n",
    "plot!(results[!, :E], label=\"Battery energy\", color=:black)"
   ]
  },
  {
   "cell_type": "code",
   "execution_count": null,
   "id": "91190d1f",
   "metadata": {},
   "outputs": [],
   "source": [
    "plot(results[!, :Pch], label=\"Charging power\", color=:blue)\n",
    "plot!(results[!, :Pdis], label=\"Discharging power\", color=:red)\n",
    "plot!(results[!, :E], label=\"Battery energy\", color=:black)\n",
    "plot!(results[!, :Demand], label=\"Demand\", color=:darkviolet)\n",
    "plot!(results[!, :P1], label=\"Generated power\", color=:green)\n",
    "plot!(xlim = [1, 48], ylim = [0, 50])"
   ]
  },
  {
   "cell_type": "code",
   "execution_count": null,
   "id": "15c2d956",
   "metadata": {},
   "outputs": [],
   "source": [
    "plot(results[!, :Pch], label=\"Charging power\", color=:blue)\n",
    "plot!(results[!, :Pdis], label=\"Discharging power\", color=:red)\n",
    "plot!(results[!, :Demand], label=\"Demand\", color=:darkviolet)"
   ]
  },
  {
   "cell_type": "code",
   "execution_count": null,
   "id": "167de339",
   "metadata": {},
   "outputs": [],
   "source": [
    "plot(results[!, :Pch], label=\"Charging power\", color=:blue)\n",
    "plot!(results[!, :Pdis], label=\"Discharging power\", color=:red)\n",
    "plot!(xlim = [1, 180], ylim = [0, 4])"
   ]
  },
  {
   "cell_type": "code",
   "execution_count": null,
   "id": "1eefe59d",
   "metadata": {},
   "outputs": [],
   "source": []
  },
  {
   "cell_type": "code",
   "execution_count": null,
   "id": "4cac9190",
   "metadata": {},
   "outputs": [],
   "source": []
  },
  {
   "cell_type": "code",
   "execution_count": null,
   "id": "bec7c9a2",
   "metadata": {},
   "outputs": [],
   "source": []
  }
 ],
 "metadata": {
  "kernelspec": {
   "display_name": "Julia 1.6.3",
   "language": "julia",
   "name": "julia-1.6"
  },
  "language_info": {
   "file_extension": ".jl",
   "mimetype": "application/julia",
   "name": "julia",
   "version": "1.6.3"
  }
 },
 "nbformat": 4,
 "nbformat_minor": 5
}
